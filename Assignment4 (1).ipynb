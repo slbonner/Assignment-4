{
 "cells": [
  {
   "attachments": {},
   "cell_type": "markdown",
   "metadata": {},
   "source": [
    "# Assignment 3\n",
    "\n",
    "As hopefully you have found in your experience and through the course instruction, what goes in a prompt dictates the quality of the output.  Therefore, it is important that we learn to iterate on our prompting design and evaluate the quality of different types of prompts for different instruction types.\n",
    "\n",
    "To that end, in this exercise you will compare different prompt inputs and consider the resulting differences in output presented by an LLM.  Specifically, use ChatGPT to explore different prompt types (e.g., zero vs. few shot prompting) for 3 of the different interaction types.\n",
    "\n",
    "Use the following reference for the different types of tasks and examples to guide your own prompt.  Additional details about prompting techniques (e.g., zero-shot) and examples for each is avabalbe in the site navigation list on the left side of the website:\n",
    "\n",
    "https://www.promptingguide.ai/introduction/examples\n",
    "\n",
    "Be sure to put your responses in the markdown cells for reply, which are indicated by bracketed text below [like this]"
   ]
  },
  {
   "attachments": {},
   "cell_type": "markdown",
   "metadata": {},
   "source": [
    "## Part 1.\n",
    "Choose one of the following prompt tasks:\n",
    "1. Text summarization\n",
    "2. Information Extraction\n",
    "3. Text Classification\n",
    "4. Question Answering \n",
    "5. Code Generation\n"
   ]
  },
  {
   "attachments": {},
   "cell_type": "markdown",
   "metadata": {},
   "source": [
    "Which one did you pick?"
   ]
  },
  {
   "attachments": {},
   "cell_type": "markdown",
   "metadata": {},
   "source": [
    "[Insert Answer Here]"
   ]
  },
  {
   "attachments": {},
   "cell_type": "markdown",
   "metadata": {},
   "source": [
    "Now, using topics related to your class project, compare at least one example of a zero-shot prompt to at least one example of a few-shot prompt. Write a paragraph describing your observations of the two responses and critically assess which prompting technique gave the best result for the task at hand.\n",
    "\n",
    "*Note:*\n",
    "If you have trouble coming up with prompt ideas that are specific to your topic, I recommend that you select the prompt task and then ask ChatGPT (with a thoughtful prompt, of course) for ideas.  Sandeep and I are also here to help, but the goal here is to prepare you to use these LLM tools long after the course is over, so it's good practice.\n"
   ]
  },
  {
   "attachments": {},
   "cell_type": "markdown",
   "metadata": {},
   "source": [
    "[Copy the zero-shot ChatGPT interaction here - Copy and paste the text and be sure to differentiate ChatGPT output from your input (with italics for example {https://www.markdownguide.org/cheat-sheet/#basic-syntax}) ]"
   ]
  },
  {
   "attachments": {},
   "cell_type": "markdown",
   "metadata": {},
   "source": [
    "[Copy the few-shot ChatGPT interaction here]"
   ]
  },
  {
   "attachments": {},
   "cell_type": "markdown",
   "metadata": {},
   "source": [
    "[Enter your paragraph comparing the two here]"
   ]
  },
  {
   "attachments": {},
   "cell_type": "markdown",
   "metadata": {},
   "source": [
    "# Part 2 \n",
    "Now, let's compare chain-of-thought prompting in a differnt scenario.  Select one of the following prompt types:\n",
    "\n",
    "1. Question Answering \n",
    "2. Code Generation\n",
    "3. Reasoning\n",
    "   "
   ]
  },
  {
   "attachments": {},
   "cell_type": "markdown",
   "metadata": {},
   "source": [
    "**Which one did you choose?**"
   ]
  },
  {
   "attachments": {},
   "cell_type": "markdown",
   "metadata": {},
   "source": [
    "[Enter Respnse Here]"
   ]
  },
  {
   "attachments": {},
   "cell_type": "markdown",
   "metadata": {},
   "source": [
    "Specifically, let's compare a zero-shot chain-of-thought (CoT) to few-shot chain-of-thought prompt. Namely, compare at least one example of a zero-shot CoT prompt to at least one example of a few-shot CoT prompt. Write a paragraph describing your observations of the two responses and critically assess which prompting technique gave the best result for the task at hand.\n"
   ]
  },
  {
   "attachments": {},
   "cell_type": "markdown",
   "metadata": {},
   "source": [
    "[Copy the zero-shot CoT ChatGPT interaction here]"
   ]
  },
  {
   "attachments": {},
   "cell_type": "markdown",
   "metadata": {},
   "source": [
    "[Copy the few-shot CoT ChatGPT interaction here]"
   ]
  },
  {
   "attachments": {},
   "cell_type": "markdown",
   "metadata": {},
   "source": [
    "[Enter your paragraph comparing the two here]"
   ]
  },
  {
   "attachments": {},
   "cell_type": "markdown",
   "metadata": {},
   "source": [
    "# Part 3 \n",
    "Lastly, we will compare how different personas can impact the prompting output.  Select one instruction type from the full set: \n",
    "1. Text Summarization\n",
    "2. Information Extraction\n",
    "3. Question Answering\n",
    "4. Text Classification\n",
    "5. Conversation\n",
    "6. Code Generation\n",
    "7. Reasoning"
   ]
  },
  {
   "attachments": {},
   "cell_type": "markdown",
   "metadata": {},
   "source": [
    "**Which one did you choose?**"
   ]
  },
  {
   "attachments": {},
   "cell_type": "markdown",
   "metadata": {},
   "source": [
    "[Enter Respnse Here]"
   ]
  },
  {
   "attachments": {},
   "cell_type": "markdown",
   "metadata": {},
   "source": [
    "Now for the particular give the prompt a persona - it could be anything (e.g., an expert scientist,  world-renown physician, leader in AI). Again, in a paragraph, describe the outputs and assess prompt reply quality."
   ]
  },
  {
   "attachments": {},
   "cell_type": "markdown",
   "metadata": {},
   "source": [
    "[Copy the first persona ChatGPT interaction here]"
   ]
  },
  {
   "attachments": {},
   "cell_type": "markdown",
   "metadata": {},
   "source": [
    "[Copy the second persona ChatGPT interaction here]"
   ]
  },
  {
   "attachments": {},
   "cell_type": "markdown",
   "metadata": {},
   "source": [
    "[Enter your paragraph comparing the two here]"
   ]
  }
 ],
 "metadata": {
  "kernelspec": {
   "display_name": "Python 3",
   "language": "python",
   "name": "python3"
  },
  "language_info": {
   "codemirror_mode": {
    "name": "ipython",
    "version": 3
   },
   "file_extension": ".py",
   "mimetype": "text/x-python",
   "name": "python",
   "nbconvert_exporter": "python",
   "pygments_lexer": "ipython3",
   "version": "3.10.11"
  },
  "orig_nbformat": 4
 },
 "nbformat": 4,
 "nbformat_minor": 2
}
